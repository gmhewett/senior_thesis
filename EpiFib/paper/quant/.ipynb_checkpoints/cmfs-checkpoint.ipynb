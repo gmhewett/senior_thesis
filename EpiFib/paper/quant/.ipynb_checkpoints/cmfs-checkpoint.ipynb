{
 "cells": [
  {
   "cell_type": "code",
   "execution_count": 242,
   "metadata": {
    "collapsed": false
   },
   "outputs": [],
   "source": [
    "from scipy.stats import binom\n",
    "import pandas as pd\n",
    "import numpy as np\n",
    "import matplotlib.pyplot as plt\n",
    "import matplotlib.font_manager"
   ]
  },
  {
   "cell_type": "code",
   "execution_count": 243,
   "metadata": {
    "collapsed": false
   },
   "outputs": [],
   "source": [
    "popcitiesframe = pd.read_csv(\"cities_detailed.csv\")\n",
    "allcitiesframe = pd.read_csv(\n",
    "    \"all_cities_densities_no_states.csv\",\n",
    "    dtype={'Population' : 'float32',\n",
    "           'Density per square mile of land area - Population' : 'float32'})"
   ]
  },
  {
   "cell_type": "code",
   "execution_count": 244,
   "metadata": {
    "collapsed": false
   },
   "outputs": [],
   "source": [
    "resident_A = popcitiesframe[['City', 'People in A Resident']]\n",
    "daytime_A = popcitiesframe[['City', 'People in A Daytime']]\n",
    "popcities = resident_A['City'].values\n",
    "allcitiesdens = allcitiesframe[[\n",
    "    'State',\n",
    "    'Geographic area', \n",
    "    'Population', \n",
    "    'Density per square mile of land area - Population'\n",
    "]]\n"
   ]
  },
  {
   "cell_type": "code",
   "execution_count": 245,
   "metadata": {
    "collapsed": true
   },
   "outputs": [],
   "source": [
    "def rreplace(s, old, new, occurrence):\n",
    "    li = s.rsplit(old, occurrence)\n",
    "    return new.join(li)"
   ]
  },
  {
   "cell_type": "code",
   "execution_count": 246,
   "metadata": {
    "collapsed": true
   },
   "outputs": [],
   "source": [
    "def myround(x, base=5):\n",
    "    return int(base * np.floor(float(x)/base))"
   ]
  },
  {
   "cell_type": "code",
   "execution_count": 247,
   "metadata": {
    "collapsed": true
   },
   "outputs": [],
   "source": [
    "def getcmfs(numpens, p, resframe, dayframe):\n",
    "    if resframe.shape[0] != dayframe.shape[0]:\n",
    "        print \"res and day have unequal lengths\"\n",
    "        return\n",
    "    \n",
    "    respops = resframe['People in A Resident'].values\n",
    "    daypops = dayframe['People in A Daytime'].values\n",
    "    \n",
    "    results = pd.DataFrame(index=range(1, numpens))\n",
    "    \n",
    "    for i in range(len(respops)):\n",
    "        cityvals = []\n",
    "        for j in range(1, numpens):\n",
    "            cityvals.append(1 - (binom.cdf(j, np.floor(respops[i]), p) * (2. / 3.) + \n",
    "                                 binom.cdf(j, np.floor(daypops[i]), p) * (1. / 3.)))\n",
    "            \n",
    "        results[popcities[i]] = cityvals\n",
    "    \n",
    "    return results"
   ]
  },
  {
   "cell_type": "code",
   "execution_count": 277,
   "metadata": {
    "collapsed": false
   },
   "outputs": [],
   "source": [
    "def plotcmfs(results, percents, city, lloc='lower left', save=False):\n",
    "    plt.clf()\n",
    "    plt.rc('text', usetex=True)\n",
    "    plt.rc('font', family='serif')\n",
    "    ls = ['-', '--', ':', '-.']\n",
    "    \n",
    "    mx = next(x[0] for x in enumerate(results[percents[-1]][city].values) if x[1] < 0.05)\n",
    "    mx = myround(mx, 100)\n",
    "    \n",
    "    if mx < 100:\n",
    "        mx = 60\n",
    "    \n",
    "    x = range(1, mx + 1)\n",
    "    for i, perc in enumerate(percents):\n",
    "        plt.plot(x,\n",
    "                 results[perc - 1][city].values[:mx], \n",
    "                 label=r'%d\\%%' % (perc * 10),\n",
    "                 ls=ls[i % len(ls)])\n",
    "\n",
    "    plt.legend(loc=lloc)\n",
    "    plt.title('Nearby Autoinjectors in %s' % rreplace(city, 'city', '', 1).strip())\n",
    "    plt.xlabel(r'$k$ (Number of Autoinjectors)')\n",
    "    plt.ylabel(r'$P(N \\geq k)$')\n",
    "    \n",
    "    if save:\n",
    "        plt.savefig('figs/%s-cmfs.png' % rreplace(city, 'city', '', 1).strip(), dpi=1000)\n",
    "    else:\n",
    "        plt.show()"
   ]
  },
  {
   "cell_type": "code",
   "execution_count": 265,
   "metadata": {
    "collapsed": false
   },
   "outputs": [],
   "source": [
    "def getallpercents():\n",
    "    numpens = 500\n",
    "    pbase = 6750000. / 321418820.\n",
    "    results = []\n",
    "    for i in range(1, 11):\n",
    "        results.append(getcmfs(numpens, pbase * i / 10., resident_A, daytime_A))\n",
    "    return results"
   ]
  },
  {
   "cell_type": "code",
   "execution_count": 268,
   "metadata": {
    "collapsed": false,
    "scrolled": true
   },
   "outputs": [],
   "source": [
    "results = getallpercents()"
   ]
  },
  {
   "cell_type": "code",
   "execution_count": 278,
   "metadata": {
    "collapsed": false
   },
   "outputs": [],
   "source": [
    "for city in popcities:\n",
    "    if city == 'Tucson city' or city == r'Louisville/Jefferson County metro government (balance)':\n",
    "        continue\n",
    "    plotcmfs(results, range(1, 10, 2), city, 'lower left', True)"
   ]
  },
  {
   "cell_type": "code",
   "execution_count": 252,
   "metadata": {
    "collapsed": false
   },
   "outputs": [],
   "source": [
    "def revcmf(A, rho, p, numpens):\n",
    "    vals = [0.] * numpens\n",
    "    for i in range(0, numpens):\n",
    "        vals[i] = 1 - (binom.cdf(i, np.floor(np.multiply(A, rho)), p))\n",
    "    return vals"
   ]
  },
  {
   "cell_type": "code",
   "execution_count": 253,
   "metadata": {
    "collapsed": false
   },
   "outputs": [],
   "source": [
    "def comparedensities(rhos, A, p, numpens):\n",
    "    vals = []\n",
    "    for rho in rhos:\n",
    "        vals.append(revcmf(A, rho, p, numpens))\n",
    "    return vals"
   ]
  },
  {
   "cell_type": "code",
   "execution_count": 254,
   "metadata": {
    "collapsed": true
   },
   "outputs": [],
   "source": [
    "def plotdenscomps(rhos, vals, numpens, pc, save=False):\n",
    "    plt.clf()\n",
    "    plt.rc('text', usetex=True)\n",
    "    plt.rc('font', family='serif')\n",
    "    ls = ['-', '--', ':', '-.']\n",
    "    \n",
    "    x = range(0, numpens)\n",
    "    \n",
    "    for i, val in enumerate(vals):\n",
    "        plt.plot(x,\n",
    "                 val, \n",
    "                 label=r'$\\rho = %d$' % rhos[i],\n",
    "                 ls=ls[i % len(ls)])\n",
    "    \n",
    "    plt.legend(loc='lower right')\n",
    "    plt.title(r'Population Density Effect : $P(C) = %.1f$' % pc)\n",
    "    plt.xlabel(r'$k$ (Number of Autoinjectors)')\n",
    "    plt.ylabel(r'$P(N \\geq k) : P(C) = %.1f$' % pc)\n",
    "    \n",
    "    if save:\n",
    "        plt.savefig('figs/dencomp-pc-%s.png' % pc, dpi=350)\n",
    "    else:\n",
    "        plt.show()"
   ]
  },
  {
   "cell_type": "code",
   "execution_count": 261,
   "metadata": {
    "collapsed": false
   },
   "outputs": [],
   "source": [
    "rhos = [10000, 7500, 5000, 2500, 1000, 500]\n",
    "A = 1.4 # km^2\n",
    "numpens = 150\n",
    "pc = 0.3\n",
    "vals = comparedensities(rhos, A, np.multiply(0.021, pc), numpens)\n",
    "plotdenscomps(rhos, vals, numpens, pc, True)"
   ]
  },
  {
   "cell_type": "code",
   "execution_count": 316,
   "metadata": {
    "collapsed": false
   },
   "outputs": [],
   "source": [
    "def getPopulationsForDensities(cs):\n",
    "    totalPop = reduce(lambda x, y: x + y, real_pops)\n",
    "    pops = [totalPop] * 10000\n",
    "\n",
    "    cur_pop = 0.\n",
    "    j = 0\n",
    "    num_dens = len(real_dens)\n",
    "    \n",
    "    for cur_den in range(0, 10000):\n",
    "        while real_dens[j] <= cur_den:\n",
    "            cur_pop = np.add(cur_pop, real_pops[j])\n",
    "            j = np.add(j, 1)\n",
    "            if j == num_dens:\n",
    "                break\n",
    "            \n",
    "        pops[cur_den] = np.subtract(pops[cur_den], cur_pop)\n",
    "    \n",
    "    results = []\n",
    "    for c in cs:\n",
    "        results.append(map(lambda x: np.multiply(x, 0.021 * c), pops))\n",
    "        \n",
    "    return results"
   ]
  },
  {
   "cell_type": "code",
   "execution_count": 317,
   "metadata": {
    "collapsed": true
   },
   "outputs": [],
   "source": [
    "real_pops = allcitiesframe[['Population']].values\n",
    "real_dens = allcitiesframe[['Density per square mile of land area - Population']].values"
   ]
  },
  {
   "cell_type": "code",
   "execution_count": 318,
   "metadata": {
    "collapsed": false
   },
   "outputs": [],
   "source": [
    "cs = [1.0, 0.5, 0.3]\n",
    "results_dens = getPopulationsForDensities(cs)"
   ]
  },
  {
   "cell_type": "code",
   "execution_count": 331,
   "metadata": {
    "collapsed": false
   },
   "outputs": [],
   "source": [
    "def plotpopbydens(results, save=False):\n",
    "    plt.clf()\n",
    "    plt.rc('text', usetex=True)\n",
    "    plt.rc('font', family='serif')\n",
    "    \n",
    "    x = range(0, 10000)\n",
    "    \n",
    "    for i in range(0, len(results)):\n",
    "        plt.plot(x, results[i], label='$P(C) = %.1f$' % cs[i])\n",
    "    \n",
    "    plt.ticklabel_format(style='sci', axis='y', scilimits=(0,0))\n",
    "    plt.title(r'Population of Autoinjector Prescribers by Density')\n",
    "    plt.xlabel(r'$\\rho$ (Population Density)')\n",
    "    plt.ylabel(r'Number of Autoinjector Prescribers')\n",
    "    plt.legend(loc='upper right')\n",
    "    \n",
    "    if save:\n",
    "        plt.savefig('figs/popbydensity.png', dpi=350)\n",
    "    else:\n",
    "        plt.show()"
   ]
  },
  {
   "cell_type": "code",
   "execution_count": 333,
   "metadata": {
    "collapsed": false
   },
   "outputs": [],
   "source": [
    "plotpopbydens(results_dens, True)"
   ]
  },
  {
   "cell_type": "code",
   "execution_count": null,
   "metadata": {
    "collapsed": true
   },
   "outputs": [],
   "source": []
  }
 ],
 "metadata": {
  "kernelspec": {
   "display_name": "181rdkernel",
   "language": "python",
   "name": "python2"
  },
  "language_info": {
   "codemirror_mode": {
    "name": "ipython",
    "version": 2
   },
   "file_extension": ".py",
   "mimetype": "text/x-python",
   "name": "python",
   "nbconvert_exporter": "python",
   "pygments_lexer": "ipython2",
   "version": "2.7.13"
  }
 },
 "nbformat": 4,
 "nbformat_minor": 2
}
